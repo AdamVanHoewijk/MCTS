{
 "cells": [
  {
   "cell_type": "code",
   "execution_count": 1,
   "id": "lightweight-radiation",
   "metadata": {},
   "outputs": [],
   "source": [
    "import random\n",
    "import numpy as np\n",
    "from math import sqrt"
   ]
  },
  {
   "cell_type": "markdown",
   "id": "fossil-crown",
   "metadata": {},
   "source": [
    "## Create tic-tac-toe"
   ]
  },
  {
   "cell_type": "code",
   "execution_count": 2,
   "id": "spatial-influence",
   "metadata": {},
   "outputs": [],
   "source": [
    "# This class saves a borad, checks and makes moves on that board.\n",
    "class game:\n",
    "    \n",
    "    def __init__(self):\n",
    "        \n",
    "        # Initialize the board as a dictionary\n",
    "        self.board = {}\n",
    "        for i in range(1,10):\n",
    "            self.board[i] = ' '\n",
    "        \n",
    "        # X plays the first move, we are still playing and there is no winner yet\n",
    "        self.turn = 'x'\n",
    "        self.playing = True\n",
    "        self.winner = 'draw'\n",
    "        \n",
    "    # Returns all the moves possible from board\n",
    "    def possible_moves(self):\n",
    "        return [move for move, val in self.board.items() if val == ' ']\n",
    "    \n",
    "    def make_move(self, move):\n",
    "        self.board[int(move)] = self.turn\n",
    "        \n",
    "        if self.is_over():\n",
    "            self.playing  = False\n",
    "        else:\n",
    "            if self.turn == 'x':\n",
    "                self.turn = 'o'\n",
    "            else:\n",
    "                self.turn = 'x'\n",
    "            \n",
    "    # Checks if game is over and assigns the correct winner\n",
    "    def is_over(self):\n",
    "        \n",
    "        # Check if someone won by three in a row..\n",
    "        three_in_row =  (   self.board[7] == self.board[8] == self.board[9] != ' ' \n",
    "                or self.board[7] == self.board[8] == self.board[9] != ' '\n",
    "                or self.board[4] == self.board[5] == self.board[6] != ' '\n",
    "                or self.board[1] == self.board[2] == self.board[3] != ' '\n",
    "                or self.board[1] == self.board[4] == self.board[7] != ' '\n",
    "                or self.board[2] == self.board[5] == self.board[8] != ' '\n",
    "                or self.board[3] == self.board[6] == self.board[9] != ' '\n",
    "                or self.board[7] == self.board[5] == self.board[3] != ' '\n",
    "                or self.board[1] == self.board[5] == self.board[9] != ' ')\n",
    "                         \n",
    "        # Or if there are no more moves\n",
    "        out_of_moves = (len(self.possible_moves()) == 0)\n",
    "        \n",
    "        # Assignm correct winner\n",
    "        if three_in_row:\n",
    "            self.winner = self.turn\n",
    "            \n",
    "        return three_in_row or out_of_moves\n",
    "\n",
    "    # Print a text representation of the board\n",
    "    def print_board(self):\n",
    "        print('\\r')\n",
    "        print(self.board[7] + '|' + self.board[8] + '|' + self.board[9])\n",
    "        print('-----')\n",
    "        print(self.board[4] + '|' + self.board[5] + '|' + self.board[6])\n",
    "        print('-----')\n",
    "        print(self.board[1] + '|' + self.board[2] + '|' + self.board[3])"
   ]
  },
  {
   "cell_type": "markdown",
   "id": "flexible-diving",
   "metadata": {},
   "source": [
    "## Create tree node"
   ]
  },
  {
   "cell_type": "code",
   "execution_count": 3,
   "id": "colonial-ethnic",
   "metadata": {},
   "outputs": [],
   "source": [
    "# This class saves a node which keeps track of what move was made to get to it\n",
    "# aswell as parents kids and other relevant data for the algorithm.\n",
    "class node:      \n",
    "    def __init__(self, move, parent):\n",
    "        self.parent = parent \n",
    "        self.move = move\n",
    "        self.children = []\n",
    "        self.wins = {'x':0, 'o':0, 'draw':0}\n",
    "        self.simulations = 0\n",
    "        self.turn = 'draw'\n",
    "        \n",
    "    # Print a string representation of the node (messy for large trees).\n",
    "    def __str__(self, level=0):\n",
    "        res = \"\\t\"*level+repr(self.wins['x'])+' '+ repr(self.turn)+\"\\n\"\n",
    "        for child in self.children:\n",
    "            res += child.__str__(level+1)\n",
    "        return res\n",
    "    \n",
    "    # Make child nodes with the available moves in the given game.\n",
    "    def make_children(self, game):\n",
    "        for move in game.possible_moves():\n",
    "            self.children.append(node(move, self))"
   ]
  },
  {
   "cell_type": "markdown",
   "id": "patent-wheat",
   "metadata": {},
   "source": [
    "## Help functions"
   ]
  },
  {
   "cell_type": "code",
   "execution_count": 4,
   "id": "processed-hundred",
   "metadata": {},
   "outputs": [],
   "source": [
    "# Retuns the upper confidence tree values given C.\n",
    "def calc_UCT(node, c):\n",
    "\n",
    "    if node.simulations == 0:\n",
    "        return np.inf\n",
    "    win_rate = (node.wins[node.turn] + node.wins['draw']) / node.simulations\n",
    "    root = c * sqrt(np.log(node.parent.simulations) / node.simulations)\n",
    "    return win_rate + root\n",
    "\n",
    "# This method returns the child with best winrate.\n",
    "def calc_best_child(node):\n",
    "    scores = []\n",
    "    for child in node.children:\n",
    "        if child.simulations == 0:\n",
    "            scores.append(0)\n",
    "        else:\n",
    "            scores.append(child.simulations)\n",
    "    return node.children[np.argmax(scores)]"
   ]
  },
  {
   "cell_type": "markdown",
   "id": "generic-testimony",
   "metadata": {},
   "source": [
    "## Monte carlo tree search"
   ]
  },
  {
   "cell_type": "code",
   "execution_count": 5,
   "id": "colonial-replica",
   "metadata": {},
   "outputs": [],
   "source": [
    "import random\n",
    "import time\n",
    "import copy\n",
    "\n",
    "class MCTreeSearch:\n",
    "    \n",
    "    def __init__(self, c = 1.4):\n",
    "        \n",
    "        # create a root for the tree.\n",
    "        self.c = c\n",
    "        self.root = node(None, None)         \n",
    "       \n",
    "        # Method to pick child node based on UCT score.\n",
    "    def pick_child(self, node):\n",
    "        scores = []\n",
    "        \n",
    "        for child in node.children:\n",
    "            scores.append(calc_UCT(child, self.c))\n",
    "        return node.children[np.argmax(scores)]  \n",
    "    \n",
    "    # The select, expand, simulate, backpropogate methods\n",
    "    # -------\n",
    "    def select(self, game):\n",
    "        \n",
    "        selected_node = self.root\n",
    "        while len(selected_node.children) != 0 and game.playing:\n",
    "            selected_node = self.pick_child(selected_node)\n",
    "            game.make_move(selected_node.move)\n",
    "        return selected_node, game\n",
    "    \n",
    "    def expand(self, given_node, game):\n",
    "        for move in game.possible_moves():\n",
    "            new_node = node(move, given_node)\n",
    "            new_node.turn = game.turn\n",
    "            given_node.children.append(new_node)\n",
    "        \n",
    "    def simulate(self, node, g):\n",
    "        moves = g.possible_moves()\n",
    "        random.shuffle(moves)\n",
    "        while g.playing:\n",
    "            g.make_move(moves.pop())  \n",
    "        return g.winner\n",
    "            \n",
    "    # Method to backpropogate and update simulation counts aswell as who won\n",
    "    def backpropogate(self, winner, node):\n",
    "        # Update winner and simulation\n",
    "        temp_node = node\n",
    "        while temp_node != None:\n",
    "            temp_node.simulations += 1\n",
    "            temp_node.wins[winner] = temp_node.wins[winner] + 1\n",
    "            \n",
    "            temp_node = temp_node.parent\n",
    "    # -----\n",
    "            \n",
    "    # Iterate over how many games we want to play.\n",
    "    def find_move(start_game, n, C = 1.4):\n",
    "        \n",
    "        tree = MCTreeSearch(c = C)\n",
    "        selected_node = tree.root\n",
    "\n",
    "        for i in range(n):\n",
    "\n",
    "            game = copy.deepcopy(start_game)\n",
    "            \n",
    "            # Select\n",
    "            selected_node, game = tree.select(game)\n",
    "\n",
    "            # Expand\n",
    "            if game.playing:\n",
    "                tree.expand(selected_node, game)\n",
    "                selected_node = random.choice(selected_node.children)\n",
    "                game.make_move(selected_node.move)\n",
    "                \n",
    "                # Simulate\n",
    "                winner = tree.simulate(selected_node, game)\n",
    "                \n",
    "            else:\n",
    "                winner = game.winner\n",
    "            \n",
    "            # Backpropogate\n",
    "            tree.backpropogate(winner, selected_node)\n",
    "            \n",
    "        return calc_best_child(tree.root).move"
   ]
  },
  {
   "cell_type": "code",
   "execution_count": 6,
   "id": "friendly-liquid",
   "metadata": {},
   "outputs": [],
   "source": [
    "# Method for a to play againts a random oponent.\n",
    "def play_self_game(i, c):\n",
    "    g = game()\n",
    "    while g.playing:\n",
    "        move = MCTreeSearch.find_move(g, i, c)        \n",
    "        g.make_move(move)\n",
    "\n",
    "        if not g.playing:\n",
    "            break   \n",
    "            \n",
    "        move = MCTreeSearch.find_move(g, i, c)        \n",
    "        g.make_move(move)\n",
    "\n",
    "    return g.winner"
   ]
  },
  {
   "cell_type": "code",
   "execution_count": 7,
   "id": "fantastic-static",
   "metadata": {},
   "outputs": [],
   "source": [
    "# Method for a to play againts a random oponent.\n",
    "def play_random_game(i, c):\n",
    "    g = game()\n",
    "    while g.playing:\n",
    "        move = MCTreeSearch.find_move(g, i, c)        \n",
    "        g.make_move(move)\n",
    "\n",
    "        if not g.playing:\n",
    "            break   \n",
    "            \n",
    "        random_move = np.random.choice(g.possible_moves())\n",
    "        g.make_move(random_move)\n",
    "\n",
    "    return g.winner"
   ]
  },
  {
   "cell_type": "code",
   "execution_count": 8,
   "id": "rapid-station",
   "metadata": {},
   "outputs": [],
   "source": [
    "def play_random_game_reverse(i, c):\n",
    "    g = game()\n",
    "    while g.playing:\n",
    "        random_move = np.random.choice(g.possible_moves())\n",
    "        g.make_move(random_move)\n",
    "\n",
    "\n",
    "        if not g.playing:\n",
    "            break   \n",
    "            \n",
    "        move = MCTreeSearch.find_move(g, i, c)        \n",
    "        g.make_move(move)    \n",
    "\n",
    "\n",
    "    return g.winner"
   ]
  },
  {
   "cell_type": "code",
   "execution_count": 9,
   "id": "peaceful-natural",
   "metadata": {},
   "outputs": [],
   "source": [
    "def play_game(i):\n",
    "\n",
    "    # Start game, begin at root of tree.\n",
    "    g = game()\n",
    "\n",
    "    # While no one has won...\n",
    "    while g.playing:\n",
    "        # Make the best move by picking the best child!\n",
    "        move = MCTreeSearch.find_move(g, i)\n",
    "        g.make_move(move)\n",
    "        if not g.playing: # Break if someone won.\n",
    "            break\n",
    "\n",
    "        # Print board and wait for user to input next move.\n",
    "        g.print_board()\n",
    "        player_input = input()\n",
    "        g.make_move(player_input)\n",
    "\n",
    "\n",
    "    # Print end of board\n",
    "    g.print_board()"
   ]
  },
  {
   "cell_type": "markdown",
   "id": "transsexual-power",
   "metadata": {},
   "source": [
    "## Train and test our model."
   ]
  },
  {
   "cell_type": "code",
   "execution_count": 10,
   "id": "norwegian-california",
   "metadata": {},
   "outputs": [
    {
     "name": "stdout",
     "output_type": "stream",
     "text": [
      "Games against random opponent.\n",
      "win percentage: 0.8367346938775511\n",
      "loss percentage: 0.0\n",
      "draw percentage: 0.16326530612244897\n"
     ]
    }
   ],
   "source": [
    "wins = 0\n",
    "losses = 0\n",
    "for i in range(50):\n",
    "    if play_random_game(500,2) == 'x':\n",
    "        wins += 1\n",
    "    if play_random_game(500,2) == 'o':\n",
    "        losses += 1\n",
    "\n",
    "# Print wins, draws, and losses.\n",
    "print(\"Games against random opponent.\")\n",
    "print(\"win percentage:\",wins/i)\n",
    "print(\"loss percentage:\",losses/i)\n",
    "print(\"draw percentage:\", (i-wins-losses)/i)"
   ]
  },
  {
   "cell_type": "code",
   "execution_count": 11,
   "id": "southeast-champagne",
   "metadata": {},
   "outputs": [
    {
     "name": "stdout",
     "output_type": "stream",
     "text": [
      "Games against random oponent staring second.\n",
      "win percentage: 0.0\n",
      "loss percentage: 0.7346938775510204\n",
      "draw percentage: 0.2653061224489796\n"
     ]
    }
   ],
   "source": [
    "wins = 0\n",
    "losses = 0\n",
    "for i in range(50):\n",
    "    if play_random_game_reverse(500,2) == 'x':\n",
    "        wins += 1\n",
    "    if play_random_game_reverse(500,2) == 'o':\n",
    "        losses += 1\n",
    "\n",
    "# Print wins, draws, and losses.\n",
    "print(\"Games against random oponent staring second.\")\n",
    "print(\"win percentage:\",wins/i)\n",
    "print(\"loss percentage:\",losses/i)\n",
    "print(\"draw percentage:\", (i-wins-losses)/i)"
   ]
  },
  {
   "cell_type": "code",
   "execution_count": 12,
   "id": "fuzzy-copyright",
   "metadata": {},
   "outputs": [
    {
     "name": "stdout",
     "output_type": "stream",
     "text": [
      "Games against itself.\n",
      "win percentage: 0.0\n",
      "loss percentage: 0.0\n",
      "draw percentage: 1.0\n"
     ]
    }
   ],
   "source": [
    "wins = 0\n",
    "losses = 0\n",
    "for i in range(50):\n",
    "    if play_self_game(500,2) == 'x':\n",
    "        wins += 1\n",
    "    if play_self_game(500,2) == 'o':\n",
    "        losses += 1\n",
    "\n",
    "# Print wins, draws, and losses.\n",
    "print(\"Games against itself.\")\n",
    "print(\"win percentage:\",wins/i)\n",
    "print(\"loss percentage:\",losses/i)\n",
    "print(\"draw percentage:\", (i-wins-losses)/i)"
   ]
  },
  {
   "cell_type": "markdown",
   "id": "completed-fountain",
   "metadata": {},
   "source": [
    "Games against brute force method was removed here to avoid having to rename the classes and filling the document with to much code"
   ]
  },
  {
   "cell_type": "code",
   "execution_count": 13,
   "id": "continuous-geneva",
   "metadata": {},
   "outputs": [
    {
     "name": "stdout",
     "output_type": "stream",
     "text": [
      "\n",
      " | | \n",
      "-----\n",
      " |x| \n",
      "-----\n",
      " | | \n",
      "1\n",
      "\n",
      " | | \n",
      "-----\n",
      "x|x| \n",
      "-----\n",
      "o| | \n",
      "6\n",
      "\n",
      " | | \n",
      "-----\n",
      "x|x|o\n",
      "-----\n",
      "o| |x\n",
      "7\n",
      "\n",
      "o| | \n",
      "-----\n",
      "x|x|o\n",
      "-----\n",
      "o|x|x\n",
      "8\n",
      "\n",
      "o|o|x\n",
      "-----\n",
      "x|x|o\n",
      "-----\n",
      "o|x|x\n"
     ]
    }
   ],
   "source": [
    "# Run to play game against user.\n",
    "play_game(500)"
   ]
  }
 ],
 "metadata": {
  "kernelspec": {
   "display_name": "Python 3",
   "language": "python",
   "name": "python3"
  },
  "language_info": {
   "codemirror_mode": {
    "name": "ipython",
    "version": 3
   },
   "file_extension": ".py",
   "mimetype": "text/x-python",
   "name": "python",
   "nbconvert_exporter": "python",
   "pygments_lexer": "ipython3",
   "version": "3.9.1"
  }
 },
 "nbformat": 4,
 "nbformat_minor": 5
}
